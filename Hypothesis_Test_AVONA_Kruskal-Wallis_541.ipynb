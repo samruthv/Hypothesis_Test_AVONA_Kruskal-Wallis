{
 "cells": [
  {
   "cell_type": "markdown",
   "metadata": {},
   "source": [
    "# Problem 26 and 34"
   ]
  },
  {
   "cell_type": "markdown",
   "metadata": {},
   "source": [
    "# Problem 26"
   ]
  },
  {
   "cell_type": "code",
   "execution_count": 3,
   "metadata": {},
   "outputs": [],
   "source": [
    "import numpy as np\n",
    "import pandas as pd"
   ]
  },
  {
   "cell_type": "code",
   "execution_count": 2,
   "metadata": {},
   "outputs": [],
   "source": [
    "Isofluorane = [.28, .51, 1.00, .39, .29, .36, .32, .69, .17, .33]\n",
    "Halothane = [.30, .39, .63, .68, .38, .21, .88, .39, .51, .32]\n",
    "Cyclopropane = [1.07, 1.35, .69, .28, 1.24, 1.53 ,.49 ,.56, 1.02, .30]"
   ]
  },
  {
   "cell_type": "code",
   "execution_count": 4,
   "metadata": {},
   "outputs": [
    {
     "data": {
      "text/html": [
       "<div>\n",
       "<style scoped>\n",
       "    .dataframe tbody tr th:only-of-type {\n",
       "        vertical-align: middle;\n",
       "    }\n",
       "\n",
       "    .dataframe tbody tr th {\n",
       "        vertical-align: top;\n",
       "    }\n",
       "\n",
       "    .dataframe thead th {\n",
       "        text-align: right;\n",
       "    }\n",
       "</style>\n",
       "<table border=\"1\" class=\"dataframe\">\n",
       "  <thead>\n",
       "    <tr style=\"text-align: right;\">\n",
       "      <th></th>\n",
       "      <th>Isofluorane</th>\n",
       "      <th>Halothane</th>\n",
       "      <th>Cyclopropane</th>\n",
       "    </tr>\n",
       "  </thead>\n",
       "  <tbody>\n",
       "    <tr>\n",
       "      <th>0</th>\n",
       "      <td>0.28</td>\n",
       "      <td>0.30</td>\n",
       "      <td>1.07</td>\n",
       "    </tr>\n",
       "    <tr>\n",
       "      <th>1</th>\n",
       "      <td>0.51</td>\n",
       "      <td>0.39</td>\n",
       "      <td>1.35</td>\n",
       "    </tr>\n",
       "    <tr>\n",
       "      <th>2</th>\n",
       "      <td>1.00</td>\n",
       "      <td>0.63</td>\n",
       "      <td>0.69</td>\n",
       "    </tr>\n",
       "    <tr>\n",
       "      <th>3</th>\n",
       "      <td>0.39</td>\n",
       "      <td>0.68</td>\n",
       "      <td>0.28</td>\n",
       "    </tr>\n",
       "    <tr>\n",
       "      <th>4</th>\n",
       "      <td>0.29</td>\n",
       "      <td>0.38</td>\n",
       "      <td>1.24</td>\n",
       "    </tr>\n",
       "    <tr>\n",
       "      <th>5</th>\n",
       "      <td>0.36</td>\n",
       "      <td>0.21</td>\n",
       "      <td>1.53</td>\n",
       "    </tr>\n",
       "    <tr>\n",
       "      <th>6</th>\n",
       "      <td>0.32</td>\n",
       "      <td>0.88</td>\n",
       "      <td>0.49</td>\n",
       "    </tr>\n",
       "    <tr>\n",
       "      <th>7</th>\n",
       "      <td>0.69</td>\n",
       "      <td>0.39</td>\n",
       "      <td>0.56</td>\n",
       "    </tr>\n",
       "    <tr>\n",
       "      <th>8</th>\n",
       "      <td>0.17</td>\n",
       "      <td>0.51</td>\n",
       "      <td>1.02</td>\n",
       "    </tr>\n",
       "    <tr>\n",
       "      <th>9</th>\n",
       "      <td>0.33</td>\n",
       "      <td>0.32</td>\n",
       "      <td>0.30</td>\n",
       "    </tr>\n",
       "  </tbody>\n",
       "</table>\n",
       "</div>"
      ],
      "text/plain": [
       "   Isofluorane  Halothane  Cyclopropane\n",
       "0         0.28       0.30          1.07\n",
       "1         0.51       0.39          1.35\n",
       "2         1.00       0.63          0.69\n",
       "3         0.39       0.68          0.28\n",
       "4         0.29       0.38          1.24\n",
       "5         0.36       0.21          1.53\n",
       "6         0.32       0.88          0.49\n",
       "7         0.69       0.39          0.56\n",
       "8         0.17       0.51          1.02\n",
       "9         0.33       0.32          0.30"
      ]
     },
     "execution_count": 4,
     "metadata": {},
     "output_type": "execute_result"
    }
   ],
   "source": [
    "df = pd.DataFrame({'Isofluorane':Isofluorane,'Halothane':Halothane,'Cyclopropane':Cyclopropane})\n",
    "df"
   ]
  },
  {
   "cell_type": "markdown",
   "metadata": {},
   "source": [
    "### Null Hypothisis\n",
    "### H0 = Mean of all treatments is equal\n",
    "### Ha = At least 2 means are different"
   ]
  },
  {
   "cell_type": "markdown",
   "metadata": {},
   "source": [
    "## Parametic Analysis (AVONA)"
   ]
  },
  {
   "cell_type": "markdown",
   "metadata": {},
   "source": [
    "### For the parametric analysis, we will use the AVONA test. We will chose the significance to be .05. So based on the P value we can determine if there is a difference in treatment effects."
   ]
  },
  {
   "cell_type": "code",
   "execution_count": 8,
   "metadata": {},
   "outputs": [
    {
     "name": "stdout",
     "output_type": "stream",
     "text": [
      "fvalue stat: 5.3549659784052785\n",
      "pvalue: 0.010996594424067195\n"
     ]
    }
   ],
   "source": [
    "import scipy.stats as stats\n",
    "# stats f_oneway functions takes the groups as input and returns ANOVA F and p value\n",
    "fvalue, pvalue = stats.f_oneway(df['Isofluorane'], df['Halothane'], df['Cyclopropane'])\n",
    "print(f\"fvalue stat: {fvalue}\")\n",
    "print(f\"pvalue: {pvalue}\")"
   ]
  },
  {
   "cell_type": "markdown",
   "metadata": {},
   "source": [
    "### Since the (P value = .01 ) < (significance level = .05) we will reject that null hypothisis. We conclude that there is a difference in treatment effects."
   ]
  },
  {
   "cell_type": "markdown",
   "metadata": {},
   "source": [
    "## Nonparametic Analysis (Kruskal-Wallis)"
   ]
  },
  {
   "cell_type": "markdown",
   "metadata": {},
   "source": [
    "### For the nonparametric analysis, we will use the Kruskal-Wallis test. We will chose the significance to be .05. So based on the P value we can determine if there is a difference in treatment effects."
   ]
  },
  {
   "cell_type": "code",
   "execution_count": 9,
   "metadata": {},
   "outputs": [
    {
     "name": "stdout",
     "output_type": "stream",
     "text": [
      "kruskal wallis stat: 5.3549659784052785\n",
      "pvalue: 0.05948077693177795\n"
     ]
    }
   ],
   "source": [
    "stat, pvalue =stats.kruskal(df['Isofluorane'], df['Halothane'], df['Cyclopropane'])\n",
    "print(f\"kruskal wallis stat: {fvalue}\")\n",
    "print(f\"pvalue: {pvalue}\")"
   ]
  },
  {
   "cell_type": "markdown",
   "metadata": {},
   "source": [
    "### Since the (P value = .059 ) > (significance level = .05) we will fail to reject that null hypothisis. We conclude that there is NO difference in treatment effects."
   ]
  },
  {
   "cell_type": "markdown",
   "metadata": {},
   "source": [
    "# Problem 34"
   ]
  },
  {
   "cell_type": "markdown",
   "metadata": {},
   "source": [
    "## Part A"
   ]
  },
  {
   "cell_type": "code",
   "execution_count": 22,
   "metadata": {},
   "outputs": [
    {
     "data": {
      "text/html": [
       "<div>\n",
       "<style scoped>\n",
       "    .dataframe tbody tr th:only-of-type {\n",
       "        vertical-align: middle;\n",
       "    }\n",
       "\n",
       "    .dataframe tbody tr th {\n",
       "        vertical-align: top;\n",
       "    }\n",
       "\n",
       "    .dataframe thead th {\n",
       "        text-align: right;\n",
       "    }\n",
       "</style>\n",
       "<table border=\"1\" class=\"dataframe\">\n",
       "  <thead>\n",
       "    <tr style=\"text-align: right;\">\n",
       "      <th></th>\n",
       "      <th>Treatment</th>\n",
       "      <th>Poisen</th>\n",
       "      <th>SurvivalTime</th>\n",
       "    </tr>\n",
       "  </thead>\n",
       "  <tbody>\n",
       "    <tr>\n",
       "      <th>0</th>\n",
       "      <td>A</td>\n",
       "      <td>1</td>\n",
       "      <td>3.1</td>\n",
       "    </tr>\n",
       "    <tr>\n",
       "      <th>1</th>\n",
       "      <td>A</td>\n",
       "      <td>1</td>\n",
       "      <td>4.5</td>\n",
       "    </tr>\n",
       "    <tr>\n",
       "      <th>2</th>\n",
       "      <td>A</td>\n",
       "      <td>1</td>\n",
       "      <td>4.6</td>\n",
       "    </tr>\n",
       "    <tr>\n",
       "      <th>3</th>\n",
       "      <td>A</td>\n",
       "      <td>1</td>\n",
       "      <td>4.3</td>\n",
       "    </tr>\n",
       "    <tr>\n",
       "      <th>4</th>\n",
       "      <td>A</td>\n",
       "      <td>2</td>\n",
       "      <td>3.6</td>\n",
       "    </tr>\n",
       "    <tr>\n",
       "      <th>5</th>\n",
       "      <td>A</td>\n",
       "      <td>2</td>\n",
       "      <td>2.9</td>\n",
       "    </tr>\n",
       "    <tr>\n",
       "      <th>6</th>\n",
       "      <td>A</td>\n",
       "      <td>2</td>\n",
       "      <td>4.0</td>\n",
       "    </tr>\n",
       "    <tr>\n",
       "      <th>7</th>\n",
       "      <td>A</td>\n",
       "      <td>2</td>\n",
       "      <td>2.3</td>\n",
       "    </tr>\n",
       "    <tr>\n",
       "      <th>8</th>\n",
       "      <td>A</td>\n",
       "      <td>3</td>\n",
       "      <td>2.2</td>\n",
       "    </tr>\n",
       "    <tr>\n",
       "      <th>9</th>\n",
       "      <td>A</td>\n",
       "      <td>3</td>\n",
       "      <td>2.1</td>\n",
       "    </tr>\n",
       "  </tbody>\n",
       "</table>\n",
       "</div>"
      ],
      "text/plain": [
       "  Treatment Poisen  SurvivalTime\n",
       "0         A      1           3.1\n",
       "1         A      1           4.5\n",
       "2         A      1           4.6\n",
       "3         A      1           4.3\n",
       "4         A      2           3.6\n",
       "5         A      2           2.9\n",
       "6         A      2           4.0\n",
       "7         A      2           2.3\n",
       "8         A      3           2.2\n",
       "9         A      3           2.1"
      ]
     },
     "execution_count": 22,
     "metadata": {},
     "output_type": "execute_result"
    }
   ],
   "source": [
    "df = pd.DataFrame({'Treatment': np.repeat(['A', 'B', 'C', 'D'], 12),\n",
    "                   'Poisen': np.tile(np.repeat(['1', '2', '3'], 4), 4),\n",
    "                    'SurvivalTime': [3.1, 4.5, 4.6, 4.3, 3.6, 2.9, 4.0, 2.3,2.2, 2.1, 1.8, 2.3,\n",
    "                                    8.2, 11.0, 8.8, 7.2, 9.2, 6.1, 4.9, 12.4, 3.0, 3.7, 3.8, 2.9,\n",
    "                                    4.3, 4.5, 6.3, 7.6, 4.4, 3.5, 3.1, 4.0, 2.3, 2.5, 2.4, 2.2,\n",
    "                                    4.5, 7.1, 6.6, 6.2, 5.6, 10.0, 7.1, 3.8, 3.0, 3.6, 3.1, 3.3]})\n",
    "df[:10]\n",
    "#The Data"
   ]
  },
  {
   "cell_type": "code",
   "execution_count": 23,
   "metadata": {},
   "outputs": [
    {
     "data": {
      "text/html": [
       "<div>\n",
       "<style scoped>\n",
       "    .dataframe tbody tr th:only-of-type {\n",
       "        vertical-align: middle;\n",
       "    }\n",
       "\n",
       "    .dataframe tbody tr th {\n",
       "        vertical-align: top;\n",
       "    }\n",
       "\n",
       "    .dataframe thead th {\n",
       "        text-align: right;\n",
       "    }\n",
       "</style>\n",
       "<table border=\"1\" class=\"dataframe\">\n",
       "  <thead>\n",
       "    <tr style=\"text-align: right;\">\n",
       "      <th></th>\n",
       "      <th>sum_sq</th>\n",
       "      <th>df</th>\n",
       "      <th>F</th>\n",
       "      <th>PR(&gt;F)</th>\n",
       "    </tr>\n",
       "  </thead>\n",
       "  <tbody>\n",
       "    <tr>\n",
       "      <th>C(Treatment)</th>\n",
       "      <td>91.903958</td>\n",
       "      <td>3.0</td>\n",
       "      <td>14.014646</td>\n",
       "      <td>3.277033e-06</td>\n",
       "    </tr>\n",
       "    <tr>\n",
       "      <th>C(Poisen)</th>\n",
       "      <td>103.042917</td>\n",
       "      <td>2.0</td>\n",
       "      <td>23.569876</td>\n",
       "      <td>2.863439e-07</td>\n",
       "    </tr>\n",
       "    <tr>\n",
       "      <th>C(Treatment):C(Poisen)</th>\n",
       "      <td>24.745417</td>\n",
       "      <td>6.0</td>\n",
       "      <td>1.886743</td>\n",
       "      <td>1.099838e-01</td>\n",
       "    </tr>\n",
       "    <tr>\n",
       "      <th>Residual</th>\n",
       "      <td>78.692500</td>\n",
       "      <td>36.0</td>\n",
       "      <td>NaN</td>\n",
       "      <td>NaN</td>\n",
       "    </tr>\n",
       "  </tbody>\n",
       "</table>\n",
       "</div>"
      ],
      "text/plain": [
       "                            sum_sq    df          F        PR(>F)\n",
       "C(Treatment)             91.903958   3.0  14.014646  3.277033e-06\n",
       "C(Poisen)               103.042917   2.0  23.569876  2.863439e-07\n",
       "C(Treatment):C(Poisen)   24.745417   6.0   1.886743  1.099838e-01\n",
       "Residual                 78.692500  36.0        NaN           NaN"
      ]
     },
     "execution_count": 23,
     "metadata": {},
     "output_type": "execute_result"
    }
   ],
   "source": [
    "import statsmodels.api as sm\n",
    "from statsmodels.formula.api import ols\n",
    "\n",
    "#perform two-way ANOVA\n",
    "model = ols('SurvivalTime ~ C(Treatment) + C(Poisen) + C(Treatment):C(Poisen)', data=df).fit()\n",
    "sm.stats.anova_lm(model, typ=2)"
   ]
  },
  {
   "cell_type": "markdown",
   "metadata": {},
   "source": [
    "### Treatment: p-value = 3.277033e-06\n",
    "### Poisen: p-value = 2.863439e-07\n",
    "### Treatment*Poisen: p-value = .1099838"
   ]
  },
  {
   "cell_type": "markdown",
   "metadata": {},
   "source": [
    "### Since the p-values for treatment and poisen are both less than .05, this means that both factors have a statistically significant effect on survival time."
   ]
  },
  {
   "cell_type": "markdown",
   "metadata": {},
   "source": [
    "### And since the p-value for the interaction effect (.1099838) is not less than .05, this tells us that there is no significant interaction effect between treatment and poison frequency. So poisen and treatment are independant of each other."
   ]
  },
  {
   "cell_type": "markdown",
   "metadata": {},
   "source": [
    "## Part B"
   ]
  },
  {
   "cell_type": "code",
   "execution_count": 24,
   "metadata": {},
   "outputs": [
    {
     "data": {
      "text/html": [
       "<div>\n",
       "<style scoped>\n",
       "    .dataframe tbody tr th:only-of-type {\n",
       "        vertical-align: middle;\n",
       "    }\n",
       "\n",
       "    .dataframe tbody tr th {\n",
       "        vertical-align: top;\n",
       "    }\n",
       "\n",
       "    .dataframe thead th {\n",
       "        text-align: right;\n",
       "    }\n",
       "</style>\n",
       "<table border=\"1\" class=\"dataframe\">\n",
       "  <thead>\n",
       "    <tr style=\"text-align: right;\">\n",
       "      <th></th>\n",
       "      <th>Treatment</th>\n",
       "      <th>Poisen</th>\n",
       "      <th>SurvivalTime</th>\n",
       "      <th>Reciprocals</th>\n",
       "    </tr>\n",
       "  </thead>\n",
       "  <tbody>\n",
       "    <tr>\n",
       "      <th>0</th>\n",
       "      <td>A</td>\n",
       "      <td>1</td>\n",
       "      <td>3.1</td>\n",
       "      <td>0.322581</td>\n",
       "    </tr>\n",
       "    <tr>\n",
       "      <th>1</th>\n",
       "      <td>A</td>\n",
       "      <td>1</td>\n",
       "      <td>4.5</td>\n",
       "      <td>0.222222</td>\n",
       "    </tr>\n",
       "    <tr>\n",
       "      <th>2</th>\n",
       "      <td>A</td>\n",
       "      <td>1</td>\n",
       "      <td>4.6</td>\n",
       "      <td>0.217391</td>\n",
       "    </tr>\n",
       "    <tr>\n",
       "      <th>3</th>\n",
       "      <td>A</td>\n",
       "      <td>1</td>\n",
       "      <td>4.3</td>\n",
       "      <td>0.232558</td>\n",
       "    </tr>\n",
       "    <tr>\n",
       "      <th>4</th>\n",
       "      <td>A</td>\n",
       "      <td>2</td>\n",
       "      <td>3.6</td>\n",
       "      <td>0.277778</td>\n",
       "    </tr>\n",
       "    <tr>\n",
       "      <th>5</th>\n",
       "      <td>A</td>\n",
       "      <td>2</td>\n",
       "      <td>2.9</td>\n",
       "      <td>0.344828</td>\n",
       "    </tr>\n",
       "    <tr>\n",
       "      <th>6</th>\n",
       "      <td>A</td>\n",
       "      <td>2</td>\n",
       "      <td>4.0</td>\n",
       "      <td>0.250000</td>\n",
       "    </tr>\n",
       "    <tr>\n",
       "      <th>7</th>\n",
       "      <td>A</td>\n",
       "      <td>2</td>\n",
       "      <td>2.3</td>\n",
       "      <td>0.434783</td>\n",
       "    </tr>\n",
       "    <tr>\n",
       "      <th>8</th>\n",
       "      <td>A</td>\n",
       "      <td>3</td>\n",
       "      <td>2.2</td>\n",
       "      <td>0.454545</td>\n",
       "    </tr>\n",
       "    <tr>\n",
       "      <th>9</th>\n",
       "      <td>A</td>\n",
       "      <td>3</td>\n",
       "      <td>2.1</td>\n",
       "      <td>0.476190</td>\n",
       "    </tr>\n",
       "  </tbody>\n",
       "</table>\n",
       "</div>"
      ],
      "text/plain": [
       "  Treatment Poisen  SurvivalTime  Reciprocals\n",
       "0         A      1           3.1     0.322581\n",
       "1         A      1           4.5     0.222222\n",
       "2         A      1           4.6     0.217391\n",
       "3         A      1           4.3     0.232558\n",
       "4         A      2           3.6     0.277778\n",
       "5         A      2           2.9     0.344828\n",
       "6         A      2           4.0     0.250000\n",
       "7         A      2           2.3     0.434783\n",
       "8         A      3           2.2     0.454545\n",
       "9         A      3           2.1     0.476190"
      ]
     },
     "execution_count": 24,
     "metadata": {},
     "output_type": "execute_result"
    }
   ],
   "source": [
    "df['Reciprocals'] = 1/df['SurvivalTime']\n",
    "df[:10]"
   ]
  },
  {
   "cell_type": "code",
   "execution_count": 25,
   "metadata": {},
   "outputs": [
    {
     "data": {
      "text/html": [
       "<div>\n",
       "<style scoped>\n",
       "    .dataframe tbody tr th:only-of-type {\n",
       "        vertical-align: middle;\n",
       "    }\n",
       "\n",
       "    .dataframe tbody tr th {\n",
       "        vertical-align: top;\n",
       "    }\n",
       "\n",
       "    .dataframe thead th {\n",
       "        text-align: right;\n",
       "    }\n",
       "</style>\n",
       "<table border=\"1\" class=\"dataframe\">\n",
       "  <thead>\n",
       "    <tr style=\"text-align: right;\">\n",
       "      <th></th>\n",
       "      <th>sum_sq</th>\n",
       "      <th>df</th>\n",
       "      <th>F</th>\n",
       "      <th>PR(&gt;F)</th>\n",
       "    </tr>\n",
       "  </thead>\n",
       "  <tbody>\n",
       "    <tr>\n",
       "      <th>C(Treatment)</th>\n",
       "      <td>0.203962</td>\n",
       "      <td>3.0</td>\n",
       "      <td>28.409988</td>\n",
       "      <td>1.335621e-09</td>\n",
       "    </tr>\n",
       "    <tr>\n",
       "      <th>C(Poisen)</th>\n",
       "      <td>0.348633</td>\n",
       "      <td>2.0</td>\n",
       "      <td>72.841855</td>\n",
       "      <td>2.216957e-13</td>\n",
       "    </tr>\n",
       "    <tr>\n",
       "      <th>C(Treatment):C(Poisen)</th>\n",
       "      <td>0.015666</td>\n",
       "      <td>6.0</td>\n",
       "      <td>1.091095</td>\n",
       "      <td>3.863548e-01</td>\n",
       "    </tr>\n",
       "    <tr>\n",
       "      <th>Residual</th>\n",
       "      <td>0.086151</td>\n",
       "      <td>36.0</td>\n",
       "      <td>NaN</td>\n",
       "      <td>NaN</td>\n",
       "    </tr>\n",
       "  </tbody>\n",
       "</table>\n",
       "</div>"
      ],
      "text/plain": [
       "                          sum_sq    df          F        PR(>F)\n",
       "C(Treatment)            0.203962   3.0  28.409988  1.335621e-09\n",
       "C(Poisen)               0.348633   2.0  72.841855  2.216957e-13\n",
       "C(Treatment):C(Poisen)  0.015666   6.0   1.091095  3.863548e-01\n",
       "Residual                0.086151  36.0        NaN           NaN"
      ]
     },
     "execution_count": 25,
     "metadata": {},
     "output_type": "execute_result"
    }
   ],
   "source": [
    "model = ols('Reciprocals ~ C(Treatment) + C(Poisen) + C(Treatment):C(Poisen)', data=df).fit()\n",
    "sm.stats.anova_lm(model, typ=2)"
   ]
  },
  {
   "cell_type": "markdown",
   "metadata": {},
   "source": [
    "### Treatment: p-value = 1.335621e-09\n",
    "### Poisen: p-value = 2.216957e-13\n",
    "### Treatment*Poisen: p-value = .3863548"
   ]
  },
  {
   "cell_type": "markdown",
   "metadata": {},
   "source": [
    "### Since the p-values for treatment and poisen are both less than .05, this means that both factors have a statistically significant effect on rate of death."
   ]
  },
  {
   "cell_type": "markdown",
   "metadata": {},
   "source": [
    "### And since the p-value for the interaction effect (.3863548) is not less than .05, this tells us that there is no significant interaction effect between treatment and poison frequency. So poisen and treatment are independant of each otherin terms of the death rate as well."
   ]
  },
  {
   "cell_type": "markdown",
   "metadata": {},
   "source": [
    "### Since the survival time and death rate were directly related as one is the reciprical of the other. It makes sense that the two-way analysis worked out similar for both tests. For both test the treatment and posien individually reject the null hypothisis but the interaction effect fail to reject the null hypothisis."
   ]
  }
 ],
 "metadata": {
  "kernelspec": {
   "display_name": "Python 3",
   "language": "python",
   "name": "python3"
  },
  "language_info": {
   "codemirror_mode": {
    "name": "ipython",
    "version": 3
   },
   "file_extension": ".py",
   "mimetype": "text/x-python",
   "name": "python",
   "nbconvert_exporter": "python",
   "pygments_lexer": "ipython3",
   "version": "3.7.6"
  }
 },
 "nbformat": 4,
 "nbformat_minor": 4
}
